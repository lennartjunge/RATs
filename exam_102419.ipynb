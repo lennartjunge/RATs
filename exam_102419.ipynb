{
 "cells": [
  {
   "cell_type": "markdown",
   "metadata": {},
   "source": [
    "linear regression is a supervised ML algo? \n",
    "- answer: true"
   ]
  },
  {
   "cell_type": "markdown",
   "metadata": {},
   "source": [
    "Which methode do we use to find the best fit for data in linear regression?\n",
    "- a. least square error \n",
    "- b. max likelyhood\n",
    "- c. logorithmic log\n",
    "- d. a & b\n",
    "- answer: a"
   ]
  },
  {
   "cell_type": "markdown",
   "metadata": {},
   "source": [
    "Which of the following is true for residuals? \n",
    "- a. lower is better\n",
    "- b. higher is better\n",
    "- c. a or b depending on the situation\n",
    "- d. none of these\n",
    "- answer: a"
   ]
  },
  {
   "cell_type": "markdown",
   "metadata": {},
   "source": [
    "what will happen when you fit degree to polynomial?\n",
    "- a.\n",
    "- b.\n",
    "- c. \n",
    "- d.\n",
    "- answer: what is polynomial? "
   ]
  },
  {
   "cell_type": "markdown",
   "metadata": {},
   "source": [
    "is it possible to design a linar regression algo using neuro network?\n",
    "- answer : true"
   ]
  },
  {
   "cell_type": "markdown",
   "metadata": {},
   "source": [
    "which of the following evaluation matrix can be used to evaluate a model while modelling a continuose output variable? \n",
    "- a. AUC-ROC\n",
    "- b. accuracy\n",
    "- c. logloss\n",
    "- d. mean squared error\n",
    "- answer: c I guess"
   ]
  },
  {
   "cell_type": "markdown",
   "metadata": {},
   "source": [
    "which of the following statements is true about outliners in linear regression? \n",
    "- a. linear reg is sensitive to outliners\n",
    "- b. not sensitive \n",
    "- c. cant say\n",
    "- d. none of those\n",
    "- answer: a"
   ]
  },
  {
   "cell_type": "markdown",
   "metadata": {},
   "source": [
    "suppose you plotted an scattered plot between the residuals and predicted values in linear regression and you found a relationship between them. what does that mean? \n",
    "- a. model is not good due to relationship\n",
    "- b. model is good due to relationship\n",
    "- c. cant say\n",
    "- d. none of those \n",
    "- answer: a"
   ]
  },
  {
   "cell_type": "markdown",
   "metadata": {},
   "source": [
    "suppose we have N independent variables (x1, x2, xn) and dependent variable is y; imagne we are applying lin reg by fitting the best fit line using least square error on this data. we found that correlation coef for one of its variabel x1 with y = 0.95. which of the following is true for x1?\n",
    "- a. relation between x and y is weak\n",
    "- b. relation is strong\n",
    "- c. relation is neutral\n",
    "- d. correlation cannot judge relationship\n",
    "- answer: d: correlation coefficient positive between x and y, but we cannot judge on statistical significancy"
   ]
  },
  {
   "cell_type": "markdown",
   "metadata": {},
   "source": [
    "suppose you have a data set d1 and design a linear regression model of degree 3 polynomial and we found that the training and testing error is zero (it perfectly fitts the data). what will happen when we fit a degree 4 polynomial in the regression?\n",
    "- a. high chance that polynomial 4 will overfit the data\n",
    "- b. underfit the data\n",
    "- c. cannot say\n",
    "- d. none of the above\n",
    "- answer: a, but what is polynomial?\n"
   ]
  },
  {
   "cell_type": "code",
   "execution_count": null,
   "metadata": {},
   "outputs": [],
   "source": []
  }
 ],
 "metadata": {
  "kernelspec": {
   "display_name": "Python [conda env:nf] *",
   "language": "python",
   "name": "conda-env-nf-py"
  },
  "language_info": {
   "codemirror_mode": {
    "name": "ipython",
    "version": 3
   },
   "file_extension": ".py",
   "mimetype": "text/x-python",
   "name": "python",
   "nbconvert_exporter": "python",
   "pygments_lexer": "ipython3",
   "version": "3.6.6"
  }
 },
 "nbformat": 4,
 "nbformat_minor": 2
}
