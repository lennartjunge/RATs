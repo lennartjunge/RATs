{
 "cells": [
  {
   "cell_type": "code",
   "execution_count": 18,
   "metadata": {},
   "outputs": [
    {
     "name": "stdout",
     "output_type": "stream",
     "text": [
      "[15]\n",
      "[15, 7]\n",
      "[15, 7, 1]\n",
      "[15, 7, 1, 1]\n",
      "[15, 7, 2]\n",
      "[15, 5]\n",
      "[3.0]\n",
      "[3.0, 3]\n",
      "[9.0]\n",
      "[9.0, 2]\n",
      "[9.0, 2, 1]\n",
      "[9.0, 2, 1, 1]\n",
      "[9.0, 2, 2]\n",
      "[9.0, 4]\n",
      "[5.0]\n",
      "[5.0]\n",
      "['15', '7', '1', '1', '+', '-', '/', '3', '*', '2', '1', '1', '+', '+', '-']\n"
     ]
    }
   ],
   "source": [
    "import operator\n",
    "\n",
    "ops = {\"+\": operator.add, \"-\": operator.sub, \"*\": operator.mul, \"/\": operator.truediv}\n",
    "main_list = [\"15\", \"7\", \"1\", \"1\", \"+\", \"-\", \"/\", \"3\", \"*\", \"2\", \"1\", \"1\", \"+\", \"+\", \"-\"]\n",
    "sub_list = []\n",
    "for i in range(len(main_list)):\n",
    "    if main_list[i].isdigit():\n",
    "        sub_list.append(int(main_list[i]))\n",
    "        print(sub_list)\n",
    "    else: \n",
    "        result = ops[main_list[i]](sub_list[-2], sub_list[-1])\n",
    "        sub_list.pop()\n",
    "        sub_list.pop()\n",
    "        sub_list.append(result)\n",
    "        print(sub_list)\n",
    "print(sub_list)   \n",
    "print(main_list)"
   ]
  },
  {
   "cell_type": "code",
   "execution_count": null,
   "metadata": {},
   "outputs": [],
   "source": []
  }
 ],
 "metadata": {
  "kernelspec": {
   "display_name": "Python [conda env:nf] *",
   "language": "python",
   "name": "conda-env-nf-py"
  },
  "language_info": {
   "codemirror_mode": {
    "name": "ipython",
    "version": 3
   },
   "file_extension": ".py",
   "mimetype": "text/x-python",
   "name": "python",
   "nbconvert_exporter": "python",
   "pygments_lexer": "ipython3",
   "version": "3.6.6"
  }
 },
 "nbformat": 4,
 "nbformat_minor": 2
}
