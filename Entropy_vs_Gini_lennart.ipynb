{
 "cells": [
  {
   "cell_type": "markdown",
   "metadata": {},
   "source": [
    "## 1. Entropy"
   ]
  },
  {
   "cell_type": "markdown",
   "metadata": {},
   "source": [
    "Entropy is the measure of Disorder/ Purity/ Heterogentiy:\n",
    "- Entropy value of 1 displays the maximum homogentiy in a dataset. \n",
    "- The smaller the entropy values the higher the degree of disorder / heterogenity.\n",
    "\n",
    "-> in machine learning we want to reduce the level of disorder and therefore we want to reduce the level of entropy to get a better model\n",
    "\n",
    "Information Gain is the measure of reduction of disorder of y give an additional feature x.\n",
    "- The higher the Information Gain based on the adding feature x and thereby the reduction of disorder, the better the model specification \n",
    "\n",
    "-> but watch out: reducing the entropy to much would result in overfitting the model"
   ]
  },
  {
   "cell_type": "code",
   "execution_count": 7,
   "metadata": {},
   "outputs": [],
   "source": [
    "import numpy as np\n",
    "\n",
    "def entropy(x):\n",
    "    return -x * np.log(x)/np.log(2) -(1-x) * np.log(1-x)/np.log(2)"
   ]
  },
  {
   "cell_type": "code",
   "execution_count": 28,
   "metadata": {},
   "outputs": [
    {
     "name": "stdout",
     "output_type": "stream",
     "text": [
      "Entropy Parent:  0.9967916319816367\n",
      "given a distribution of 16/30 and 14/30 of y(1 or 0) within the dataset\n"
     ]
    }
   ],
   "source": [
    "print('Entropy Parent: ', entropy(16/30))\n",
    "print('given a distribution of 16/30 and 14/30 of y(1 or 0) within the dataset')"
   ]
  },
  {
   "cell_type": "code",
   "execution_count": 24,
   "metadata": {},
   "outputs": [
    {
     "name": "stdout",
     "output_type": "stream",
     "text": [
      "Entropy Y given feature X < 50:  0.3912435636292555\n",
      "given a distribution of 12/13 and 1/13 within conditon of feature x\n"
     ]
    }
   ],
   "source": [
    "print('Entropy Y given feature X < 50: ', entropy(12/13))\n",
    "print('given a distribution of 12/13 and 1/13 within conditon of feature x')"
   ]
  },
  {
   "cell_type": "code",
   "execution_count": 26,
   "metadata": {},
   "outputs": [
    {
     "name": "stdout",
     "output_type": "stream",
     "text": [
      "Entropy Y given feature X > 50:  0.787126586201269\n",
      "given a distribution of 4/17 and 13/17 within conditon of feature x\n"
     ]
    }
   ],
   "source": [
    "print('Entropy Y given feature X > 50: ', entropy(4/17))\n",
    "print('given a distribution of 4/17 and 13/17 within conditon of feature x')"
   ]
  },
  {
   "cell_type": "code",
   "execution_count": 27,
   "metadata": {},
   "outputs": [
    {
     "name": "stdout",
     "output_type": "stream",
     "text": [
      "Information gain of adding feature x with distribution within the conditions of x:  0.38121435556157357\n"
     ]
    }
   ],
   "source": [
    "IG = entropy(16/30) - ((13/30) * entropy(12/13) + (17/30) * entropy(4/17))\n",
    "print('Information gain of adding feature x with distribution within the conditions of x: ', IG)"
   ]
  },
  {
   "cell_type": "markdown",
   "metadata": {},
   "source": [
    "## 2. Gini Index"
   ]
  },
  {
   "cell_type": "markdown",
   "metadata": {},
   "source": [
    "Gini index is a measure of impurity: \n",
    "- it measures the likelyhood of an new, random data point being calssified correctly (without any additional features)\n",
    "- maximum gini index value = 1/no. of classifications\n",
    "- the lower the gini index the higher the degree of disorder"
   ]
  },
  {
   "cell_type": "code",
   "execution_count": 29,
   "metadata": {},
   "outputs": [],
   "source": [
    "def gini(x1, x2, x3):\n",
    "    return x1 * (1-x1) + x2 * (1-x2) + x3 * (1-x3)"
   ]
  },
  {
   "cell_type": "code",
   "execution_count": 30,
   "metadata": {},
   "outputs": [
    {
     "data": {
      "text/plain": [
       "0.6599999999999999"
      ]
     },
     "execution_count": 30,
     "metadata": {},
     "output_type": "execute_result"
    }
   ],
   "source": [
    "gini(0.4, 0.3, 0.3)"
   ]
  },
  {
   "cell_type": "code",
   "execution_count": 32,
   "metadata": {},
   "outputs": [
    {
     "data": {
      "text/plain": [
       "0.4897959183673469"
      ]
     },
     "execution_count": 32,
     "metadata": {},
     "output_type": "execute_result"
    }
   ],
   "source": [
    "gini(4/7, 3/7, 0)"
   ]
  },
  {
   "cell_type": "code",
   "execution_count": 33,
   "metadata": {},
   "outputs": [],
   "source": [
    "def gini2(x1, x2, x3):\n",
    "    return 1 - x1**2 - x2**2 - x3**2"
   ]
  },
  {
   "cell_type": "code",
   "execution_count": 34,
   "metadata": {},
   "outputs": [
    {
     "data": {
      "text/plain": [
       "0.66"
      ]
     },
     "execution_count": 34,
     "metadata": {},
     "output_type": "execute_result"
    }
   ],
   "source": [
    "gini2(0.4, 0.3, 0.3)"
   ]
  },
  {
   "cell_type": "code",
   "execution_count": 35,
   "metadata": {},
   "outputs": [
    {
     "data": {
      "text/plain": [
       "0.48979591836734704"
      ]
     },
     "execution_count": 35,
     "metadata": {},
     "output_type": "execute_result"
    }
   ],
   "source": [
    "gini2(4/7, 3/7, 0)"
   ]
  },
  {
   "cell_type": "code",
   "execution_count": null,
   "metadata": {},
   "outputs": [],
   "source": []
  }
 ],
 "metadata": {
  "kernelspec": {
   "display_name": "Python [conda env:nf] *",
   "language": "python",
   "name": "conda-env-nf-py"
  },
  "language_info": {
   "codemirror_mode": {
    "name": "ipython",
    "version": 3
   },
   "file_extension": ".py",
   "mimetype": "text/x-python",
   "name": "python",
   "nbconvert_exporter": "python",
   "pygments_lexer": "ipython3",
   "version": "3.6.6"
  }
 },
 "nbformat": 4,
 "nbformat_minor": 2
}
