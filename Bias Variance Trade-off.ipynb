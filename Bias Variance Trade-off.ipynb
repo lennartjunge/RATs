{
 "cells": [
  {
   "cell_type": "markdown",
   "metadata": {},
   "source": [
    "### Bias Variance Trade Off"
   ]
  },
  {
   "cell_type": "markdown",
   "metadata": {},
   "source": [
    "- tradeoff between how \"flexible\" the model is and how well it performs on unseen data (underfitting vs. overfitting)\n",
    "\n",
    "- Bias: is an assumption error that makes the model miss important relations between indenpendent and dependent variabeles, models with high bias are not able to correctly capture the data of the training data set. even though the model is very flexible and can be applied to data outside the training data set, the prediction results will be poor. \n",
    "\n",
    "- Variance: high sensetivity to fluctuations of the data in the training data. models with high variance are not able to ignore the random noise and thereby distorte the predicted output. High variance models are very good at predicting data based on the given training data set but are bad at predicting values based on an unknown data set. \n",
    "\n",
    "- model complexity increases the variance and decreases the bias (overfitting)\n",
    "- model simplicity increases the bias and decreases the variance (underfitting)\n",
    "\n",
    "- goal: simultaneously minimize both bias and variance in order to generate a model that has the correct level of fit, meaning it is able to generalize beyond the training set "
   ]
  },
  {
   "cell_type": "code",
   "execution_count": null,
   "metadata": {},
   "outputs": [],
   "source": []
  }
 ],
 "metadata": {
  "kernelspec": {
   "display_name": "Python [conda env:nf] *",
   "language": "python",
   "name": "conda-env-nf-py"
  },
  "language_info": {
   "codemirror_mode": {
    "name": "ipython",
    "version": 3
   },
   "file_extension": ".py",
   "mimetype": "text/x-python",
   "name": "python",
   "nbconvert_exporter": "python",
   "pygments_lexer": "ipython3",
   "version": "3.6.6"
  }
 },
 "nbformat": 4,
 "nbformat_minor": 2
}
