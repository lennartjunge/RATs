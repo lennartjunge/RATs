{
 "cells": [
  {
   "cell_type": "markdown",
   "metadata": {},
   "source": [
    "## Naive Bayes Classifier\n",
    "\n",
    "probabilistic machine learning model used for classification predictive modeling problem where we want to predict a class label for a given observation on different independent features by calculating the joint probability of the class label given the features. The class label with the higher probability will be teh predicted result of the algorithm. \n",
    "\n",
    "Naive Bayes classifier finds the probability of an event occurring given the probability of another event that has already occurred (conditional probability can be calculated using the joint probability):\n",
    "\n",
    "P(A|B) = P(B|A) * P(A) / P(B)\n",
    "\n",
    "Main assumption of the Naive Bayes calssifier is the independence of featrues: every feature being classified is independent of the value of any other feature. (In contrast to a decision tree algorithm, where the features are seen as dependent events happening sequentally; visualized by the deepth of the decision tree).\n",
    "\n",
    "Pros:\n",
    "- simple to understand and build\n",
    "- easily trained\n",
    "- fast\n",
    "- not sensitive to irrelevant features\n",
    "\n",
    "Cons:\n",
    "- assumes every feature is independent, which isn’t always the case\n",
    "\n",
    "Types:\n",
    "- Multinomial Naive Bayes (used for document classification problem based on frequency of the words)\n",
    "- Bernoulli Naive Bayes (boolean variables: yes or no)\n",
    "- Gaussian Naive Bayes (continuous value, not discrete, assumed gaussian distribution)\n"
   ]
  },
  {
   "cell_type": "code",
   "execution_count": null,
   "metadata": {},
   "outputs": [],
   "source": []
  }
 ],
 "metadata": {
  "kernelspec": {
   "display_name": "Python [conda env:nf] *",
   "language": "python",
   "name": "conda-env-nf-py"
  },
  "language_info": {
   "codemirror_mode": {
    "name": "ipython",
    "version": 3
   },
   "file_extension": ".py",
   "mimetype": "text/x-python",
   "name": "python",
   "nbconvert_exporter": "python",
   "pygments_lexer": "ipython3",
   "version": "3.6.6"
  }
 },
 "nbformat": 4,
 "nbformat_minor": 2
}
