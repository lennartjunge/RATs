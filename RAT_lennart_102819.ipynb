{
 "cells": [
  {
   "cell_type": "markdown",
   "metadata": {},
   "source": [
    "what is a linear regression?\n",
    "\n",
    "- answer: explains the relationship between an independent and a dependent variable by finding the line of best fit between these variables: (y = m x + b + e) y being the dependent variable, x being the indenpendent variable, m being the slope of the regression line, b being the constant and e being the error term/ residual. minimizing the squared error term will result in the line of best fit: sum(y actual - y estimate)^2"
   ]
  },
  {
   "cell_type": "markdown",
   "metadata": {},
   "source": [
    "what is multiple regression? \n",
    "\n",
    "- answer: a linear regression with one dependent variable being explained by multiple independent variables: y = b + m1 x1 + m2 x2 + ... + mn xn + e"
   ]
  },
  {
   "cell_type": "code",
   "execution_count": null,
   "metadata": {},
   "outputs": [],
   "source": []
  },
  {
   "cell_type": "code",
   "execution_count": null,
   "metadata": {},
   "outputs": [],
   "source": []
  },
  {
   "cell_type": "code",
   "execution_count": null,
   "metadata": {},
   "outputs": [],
   "source": []
  }
 ],
 "metadata": {
  "kernelspec": {
   "display_name": "Python [conda env:nf] *",
   "language": "python",
   "name": "conda-env-nf-py"
  },
  "language_info": {
   "codemirror_mode": {
    "name": "ipython",
    "version": 3
   },
   "file_extension": ".py",
   "mimetype": "text/x-python",
   "name": "python",
   "nbconvert_exporter": "python",
   "pygments_lexer": "ipython3",
   "version": "3.6.6"
  }
 },
 "nbformat": 4,
 "nbformat_minor": 2
}
